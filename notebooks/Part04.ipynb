{
 "cells": [
  {
   "cell_type": "markdown",
   "source": [
    "# Where we left off\n",
    "We loaded in our clean JSONL data, converted them into `spacy.Doc` objects, and reviewed some of the sentence boundaries. Now we're going to tune our `senter` model for better sentence boundary detection."
   ],
   "metadata": {
    "collapsed": false
   }
  },
  {
   "cell_type": "markdown",
   "source": [
    "# Training data\n",
    "Labeling data for NLP can be confusing. Because we're determining if a specific `token` within a `doc` is the start of a sentence, we need to review every token within the `doc`. We'll use the `\"en_core_web_sm\"` model to tokenize our text and then update the labels for each token as `True` (or `1`) if it is the start of the sentence, and `False` (or `0`) otherwise. See [*Converting existing corpora and annotations*](https://spacy.io/usage/training#data-convert) and [*Annotation format for creating training examples*](https://spacy.io/api/data-formats#dict-input) for more info.\n",
    "\n",
    "Labeling our tokens will be tedious -- we have to go one `doc` at a time. If you have a [`prodigy`](https://prodi.gy/) license, this would be a great time to use the [Sentence Segmentation](https://prodi.gy/docs/recipes/#sent) recipe. For those of you who don't have `prodigy`, I've built you a [lightweight `streamlit` app](link/to/app) to make our lives easier.\n",
    "> NOTE: if you'd like to know how I built the app you can follow my tutorial [here](link/to/app/tutorial)."
   ],
   "metadata": {
    "collapsed": false
   }
  },
  {
   "cell_type": "code",
   "execution_count": 158,
   "outputs": [],
   "source": [
    "import json\n",
    "\n",
    "import spacy\n",
    "\n",
    "\n",
    "with open(\"../data/clean.jsonl\", \"r\") as f:\n",
    "    lines = f.readlines()\n",
    "    data = [json.loads(line) for line in lines]\n",
    "# NOTE: I'm loading in a blank English model instead of the usual \"en_core_web_sm\" model.\n",
    "#       **This limits us to tokenization only**\n",
    "nlp = spacy.blank(\"en\")\n",
    "nlp.add_pipe(\"senter\", source=spacy.load(\"en_core_web_sm\"))\n",
    "docs = nlp.pipe(item.get(\"body\") for item in data if \"body\" in item)\n",
    "doc = next(docs)"
   ],
   "metadata": {
    "collapsed": false,
    "ExecuteTime": {
     "end_time": "2023-07-05T17:58:45.735080100Z",
     "start_time": "2023-07-05T17:58:42.333932400Z"
    }
   }
  },
  {
   "cell_type": "code",
   "execution_count": 159,
   "outputs": [
    {
     "data": {
      "text/plain": "I recently migrated an older application we have at work from Java 1.5 to 1.6.  I noticed that during the build, I now get a (new) compiler warning:\n\nSo I understand what that means, but is there a well-known alternative that is more open-standards friendly, not proprietary?  What driver do you use and/or recommend and what are the advantages of it?\nSo far I have taken the approach that it compiles in 1.6, so we'll keep using it and we can find a replacement later if the next version of Java does not support it, and I will likely try to suppress the warning from showing up in the build.  Am I wrong to think that?"
     },
     "execution_count": 159,
     "metadata": {},
     "output_type": "execute_result"
    }
   ],
   "source": [
    "doc"
   ],
   "metadata": {
    "collapsed": false,
    "ExecuteTime": {
     "end_time": "2023-07-05T17:58:46.412115Z",
     "start_time": "2023-07-05T17:58:46.373589300Z"
    }
   }
  },
  {
   "cell_type": "code",
   "execution_count": 160,
   "outputs": [],
   "source": [
    "sent = next(doc.sents)"
   ],
   "metadata": {
    "collapsed": false,
    "ExecuteTime": {
     "end_time": "2023-07-05T17:58:48.174570300Z",
     "start_time": "2023-07-05T17:58:48.134580300Z"
    }
   }
  },
  {
   "cell_type": "code",
   "execution_count": 235,
   "outputs": [],
   "source": [
    "doc = nlp(\"This is a test\\nThis is another test.\")"
   ],
   "metadata": {
    "collapsed": false,
    "ExecuteTime": {
     "end_time": "2023-07-05T19:55:38.661586200Z",
     "start_time": "2023-07-05T19:55:38.621007200Z"
    }
   }
  },
  {
   "cell_type": "code",
   "execution_count": 236,
   "outputs": [
    {
     "data": {
      "text/plain": "[('This', True),\n ('is', False),\n ('a', False),\n ('test', False),\n ('\\n', False),\n ('This', False),\n ('is', False),\n ('another', False),\n ('test', False),\n ('.', False)]"
     },
     "execution_count": 236,
     "metadata": {},
     "output_type": "execute_result"
    }
   ],
   "source": [
    "[(t.text, t.is_sent_start) for t in doc]"
   ],
   "metadata": {
    "collapsed": false,
    "ExecuteTime": {
     "end_time": "2023-07-05T19:55:40.776001100Z",
     "start_time": "2023-07-05T19:55:40.717808700Z"
    }
   }
  },
  {
   "cell_type": "code",
   "execution_count": 267,
   "outputs": [],
   "source": [
    "from spacy.tokens import DocBin\n",
    "from spacy.training import Example\n",
    "\n",
    "\n",
    "# example doc\n",
    "doc = nlp(\"123 This is a test\\nThis is another test.\")\n",
    "\n",
    "# make reference (gold-standard) doc\n",
    "eg = Example.from_dict(doc, {\"sent_starts\": [0, 1, 0, 0, 0, 0, 1, 0, 0, 0, 0]})\n",
    "\n",
    "# add reference doc to DocBin\n",
    "db = DocBin()\n",
    "db.add(eg.reference)"
   ],
   "metadata": {
    "collapsed": false,
    "ExecuteTime": {
     "end_time": "2023-07-05T20:03:10.081909700Z",
     "start_time": "2023-07-05T20:03:10.016519700Z"
    }
   }
  },
  {
   "cell_type": "code",
   "execution_count": 269,
   "outputs": [
    {
     "data": {
      "text/plain": "[123 This is a test\n This is another test.]"
     },
     "execution_count": 269,
     "metadata": {},
     "output_type": "execute_result"
    }
   ],
   "source": [
    "# predicted\n",
    "[*doc.sents]"
   ],
   "metadata": {
    "collapsed": false,
    "ExecuteTime": {
     "end_time": "2023-07-05T20:03:24.979379700Z",
     "start_time": "2023-07-05T20:03:24.865067700Z"
    }
   }
  },
  {
   "cell_type": "code",
   "execution_count": 270,
   "outputs": [],
   "source": [
    "doc_bin_doc = [*db.get_docs(nlp.vocab)][0]"
   ],
   "metadata": {
    "collapsed": false,
    "ExecuteTime": {
     "end_time": "2023-07-05T20:03:27.196912800Z",
     "start_time": "2023-07-05T20:03:27.165297400Z"
    }
   }
  },
  {
   "cell_type": "code",
   "execution_count": 271,
   "outputs": [
    {
     "data": {
      "text/plain": "[123, This is a test, This is another test.]"
     },
     "execution_count": 271,
     "metadata": {},
     "output_type": "execute_result"
    }
   ],
   "source": [
    "# reference\n",
    "[*doc_bin_doc.sents]"
   ],
   "metadata": {
    "collapsed": false,
    "ExecuteTime": {
     "end_time": "2023-07-05T20:03:32.332227900Z",
     "start_time": "2023-07-05T20:03:32.302811200Z"
    }
   }
  },
  {
   "cell_type": "code",
   "execution_count": 272,
   "outputs": [
    {
     "data": {
      "text/plain": "[('123', None),\n ('This', True),\n ('is', None),\n ('a', None),\n ('test', None),\n ('\\n', None),\n ('This', True),\n ('is', None),\n ('another', None),\n ('test', None),\n ('.', None)]"
     },
     "execution_count": 272,
     "metadata": {},
     "output_type": "execute_result"
    }
   ],
   "source": [
    "[(t.text, t.is_sent_start) for t in doc_bin_doc]"
   ],
   "metadata": {
    "collapsed": false,
    "ExecuteTime": {
     "end_time": "2023-07-05T20:03:40.605163400Z",
     "start_time": "2023-07-05T20:03:40.574878400Z"
    }
   }
  },
  {
   "cell_type": "code",
   "execution_count": 273,
   "outputs": [
    {
     "data": {
      "text/plain": "[('123', None),\n ('This', True),\n ('is', None),\n ('a', None),\n ('test', None),\n ('\\n', None),\n ('This', True),\n ('is', None),\n ('another', None),\n ('test', None),\n ('.', None)]"
     },
     "execution_count": 273,
     "metadata": {},
     "output_type": "execute_result"
    }
   ],
   "source": [
    "[(t.text, t.is_sent_start) for t in eg.reference]"
   ],
   "metadata": {
    "collapsed": false,
    "ExecuteTime": {
     "end_time": "2023-07-05T20:03:46.032731900Z",
     "start_time": "2023-07-05T20:03:46.019779Z"
    }
   }
  }
 ],
 "metadata": {
  "kernelspec": {
   "display_name": "Python 3",
   "language": "python",
   "name": "python3"
  },
  "language_info": {
   "codemirror_mode": {
    "name": "ipython",
    "version": 2
   },
   "file_extension": ".py",
   "mimetype": "text/x-python",
   "name": "python",
   "nbconvert_exporter": "python",
   "pygments_lexer": "ipython2",
   "version": "2.7.6"
  }
 },
 "nbformat": 4,
 "nbformat_minor": 0
}
