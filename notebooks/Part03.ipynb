{
 "cells": [
  {
   "cell_type": "markdown",
   "source": [
    "# Where we left off\n",
    "In Part 02 we registered for an API key, stored it in our environment variables, and added logic to our `StackOverflow.__init__` method to add it to our API calls increasing our `quota_max` and `quota_remaining`."
   ],
   "metadata": {
    "collapsed": false
   }
  },
  {
   "cell_type": "markdown",
   "source": [
    "# Tracking your remaining quota\n",
    "How do I know my `quota_remaining` without making an API call? You don't. But we could store the value in `StackOverflow` object so we don't have to make more than one API call.\n",
    "\n",
    "To do this we'll need to add a `quota_remaining` attribute and modify the current `fetch` method:"
   ],
   "metadata": {
    "collapsed": false
   }
  },
  {
   "cell_type": "code",
   "execution_count": 1,
   "outputs": [],
   "source": [
    "\"\"\"contents of api.py\"\"\"\n",
    "from os import getenv\n",
    "\n",
    "from stackapi import StackAPI\n",
    "\n",
    "\n",
    "class StackOverflow(StackAPI):\n",
    "    \"\"\"A subclass of `StackAPI` that limits API calls to StackOverflow.\"\"\"\n",
    "\n",
    "    def __init__(self, key: str | None = None, **kwargs):\n",
    "        if key is None:\n",
    "            key = getenv(key=\"stackapi_key\")\n",
    "        super().__init__(name=\"stackoverflow\", key=key, **kwargs)\n",
    "        self.quota_remaining: int | None = None\n",
    "\n",
    "    def fetch(self, endpoint=None, page=1, key=None, filter='default', **kwargs):\n",
    "        response = super().fetch(\n",
    "            endpoint=endpoint, page=page, key=key, filter=filter, **kwargs\n",
    "        )\n",
    "        self.quota_remaining = response.get(\"quota_remaining\")\n",
    "        return response"
   ],
   "metadata": {
    "collapsed": false,
    "ExecuteTime": {
     "end_time": "2023-07-01T20:00:18.028355200Z",
     "start_time": "2023-07-01T20:00:17.848693300Z"
    }
   }
  },
  {
   "cell_type": "code",
   "execution_count": 2,
   "outputs": [
    {
     "name": "stdout",
     "output_type": "stream",
     "text": [
      "9940\n"
     ]
    }
   ],
   "source": [
    "so = StackOverflow()\n",
    "\n",
    "response = so.fetch(\"questions\")\n",
    "print(so.quota_remaining)"
   ],
   "metadata": {
    "collapsed": false,
    "ExecuteTime": {
     "end_time": "2023-07-01T20:00:44.002265100Z",
     "start_time": "2023-07-01T20:00:41.632800800Z"
    }
   }
  },
  {
   "cell_type": "markdown",
   "source": [
    "It works! But I'm not satisfied. Because we added the attribute `quota_remaining` to the class in the way we did, we could technically overwrite it and be none the wiser."
   ],
   "metadata": {
    "collapsed": false
   }
  },
  {
   "cell_type": "code",
   "execution_count": 3,
   "outputs": [
    {
     "name": "stdout",
     "output_type": "stream",
     "text": [
      "10000\n"
     ]
    }
   ],
   "source": [
    "so.quota_remaining = 10_000\n",
    "print(so.quota_remaining)"
   ],
   "metadata": {
    "collapsed": false,
    "ExecuteTime": {
     "end_time": "2023-07-01T20:01:58.290341200Z",
     "start_time": "2023-07-01T20:01:58.283344600Z"
    }
   }
  },
  {
   "cell_type": "markdown",
   "source": [
    "How do we prevent this? By using a `@property` and making the value private."
   ],
   "metadata": {
    "collapsed": false
   }
  },
  {
   "cell_type": "code",
   "execution_count": 4,
   "outputs": [],
   "source": [
    "\"\"\"contents of api.py\"\"\"\n",
    "from os import getenv\n",
    "\n",
    "from stackapi import StackAPI\n",
    "\n",
    "\n",
    "class StackOverflow(StackAPI):\n",
    "    \"\"\"A subclass of `StackAPI` that limits API calls to StackOverflow.\"\"\"\n",
    "\n",
    "    def __init__(self, key: str | None = None, **kwargs):\n",
    "        if key is None:\n",
    "            key = getenv(key=\"stackapi_key\")\n",
    "        super().__init__(name=\"stackoverflow\", key=key, **kwargs)\n",
    "        self._quota_remaining: int | None = None\n",
    "\n",
    "    def fetch(self, endpoint=None, page=1, key=None, filter='default', **kwargs):\n",
    "        response = super().fetch(\n",
    "            endpoint=endpoint, page=page, key=key, filter=filter, **kwargs\n",
    "        )\n",
    "        self._quota_remaining = response.get(\"quota_remaining\")\n",
    "        return response\n",
    "\n",
    "    @property\n",
    "    def quota_remaining(self) -> int | None:\n",
    "        return self._quota_remaining"
   ],
   "metadata": {
    "collapsed": false,
    "ExecuteTime": {
     "end_time": "2023-07-01T20:03:22.969225Z",
     "start_time": "2023-07-01T20:03:22.953229200Z"
    }
   }
  },
  {
   "cell_type": "markdown",
   "source": [
    "Running the code before we'll get our actual `quota_remaining`:"
   ],
   "metadata": {
    "collapsed": false
   }
  },
  {
   "cell_type": "code",
   "execution_count": 5,
   "outputs": [
    {
     "name": "stdout",
     "output_type": "stream",
     "text": [
      "9935\n"
     ]
    }
   ],
   "source": [
    "so = StackOverflow()\n",
    "\n",
    "response = so.fetch(\"questions\")\n",
    "print(so.quota_remaining)"
   ],
   "metadata": {
    "collapsed": false,
    "ExecuteTime": {
     "end_time": "2023-07-01T20:03:55.556635300Z",
     "start_time": "2023-07-01T20:03:53.408327900Z"
    }
   }
  },
  {
   "cell_type": "markdown",
   "source": [
    "But this time when we try to overwrite it we'll raise an error:"
   ],
   "metadata": {
    "collapsed": false
   }
  },
  {
   "cell_type": "code",
   "execution_count": 6,
   "outputs": [
    {
     "ename": "AttributeError",
     "evalue": "property 'quota_remaining' of 'StackOverflow' object has no setter",
     "output_type": "error",
     "traceback": [
      "\u001B[1;31m---------------------------------------------------------------------------\u001B[0m",
      "\u001B[1;31mAttributeError\u001B[0m                            Traceback (most recent call last)",
      "Cell \u001B[1;32mIn[6], line 1\u001B[0m\n\u001B[1;32m----> 1\u001B[0m \u001B[43mso\u001B[49m\u001B[38;5;241;43m.\u001B[39;49m\u001B[43mquota_remaining\u001B[49m \u001B[38;5;241m=\u001B[39m \u001B[38;5;241m10_000\u001B[39m\n",
      "\u001B[1;31mAttributeError\u001B[0m: property 'quota_remaining' of 'StackOverflow' object has no setter"
     ]
    }
   ],
   "source": [
    "so.quota_remaining = 10_000"
   ],
   "metadata": {
    "collapsed": false,
    "ExecuteTime": {
     "end_time": "2023-07-01T20:04:17.558583100Z",
     "start_time": "2023-07-01T20:04:16.972221300Z"
    }
   }
  },
  {
   "cell_type": "markdown",
   "source": [
    "Much better. Now what about our `key`? Does the same thing happen?"
   ],
   "metadata": {
    "collapsed": false
   }
  },
  {
   "cell_type": "code",
   "execution_count": 9,
   "outputs": [
    {
     "name": "stdout",
     "output_type": "stream",
     "text": [
      "123456\n"
     ]
    }
   ],
   "source": [
    "so.key = \"123456\"\n",
    "print(so.key)"
   ],
   "metadata": {
    "collapsed": false,
    "ExecuteTime": {
     "end_time": "2023-07-01T20:06:22.182647300Z",
     "start_time": "2023-07-01T20:06:22.169755300Z"
    }
   }
  },
  {
   "cell_type": "markdown",
   "source": [
    "It does! If we accidentally overwrote our `key` mid-script would we still be able to make API calls?"
   ],
   "metadata": {
    "collapsed": false
   }
  },
  {
   "cell_type": "code",
   "execution_count": 10,
   "outputs": [
    {
     "ename": "StackAPIError",
     "evalue": "('https://api.stackexchange.com/2.2/questions/?pagesize=100&page=1&filter=default&key=123456&site=stackoverflow', 400, 'bad_parameter', \"`key` doesn't match a known application\")",
     "output_type": "error",
     "traceback": [
      "\u001B[1;31m---------------------------------------------------------------------------\u001B[0m",
      "\u001B[1;31mStackAPIError\u001B[0m                             Traceback (most recent call last)",
      "Cell \u001B[1;32mIn[10], line 1\u001B[0m\n\u001B[1;32m----> 1\u001B[0m \u001B[43mso\u001B[49m\u001B[38;5;241;43m.\u001B[39;49m\u001B[43mfetch\u001B[49m\u001B[43m(\u001B[49m\u001B[38;5;124;43m\"\u001B[39;49m\u001B[38;5;124;43mquestions\u001B[39;49m\u001B[38;5;124;43m\"\u001B[39;49m\u001B[43m)\u001B[49m\n",
      "Cell \u001B[1;32mIn[4], line 17\u001B[0m, in \u001B[0;36mStackOverflow.fetch\u001B[1;34m(self, endpoint, page, key, filter, **kwargs)\u001B[0m\n\u001B[0;32m     16\u001B[0m \u001B[38;5;28;01mdef\u001B[39;00m \u001B[38;5;21mfetch\u001B[39m(\u001B[38;5;28mself\u001B[39m, endpoint\u001B[38;5;241m=\u001B[39m\u001B[38;5;28;01mNone\u001B[39;00m, page\u001B[38;5;241m=\u001B[39m\u001B[38;5;241m1\u001B[39m, key\u001B[38;5;241m=\u001B[39m\u001B[38;5;28;01mNone\u001B[39;00m, \u001B[38;5;28mfilter\u001B[39m\u001B[38;5;241m=\u001B[39m\u001B[38;5;124m'\u001B[39m\u001B[38;5;124mdefault\u001B[39m\u001B[38;5;124m'\u001B[39m, \u001B[38;5;241m*\u001B[39m\u001B[38;5;241m*\u001B[39mkwargs):\n\u001B[1;32m---> 17\u001B[0m     response \u001B[38;5;241m=\u001B[39m \u001B[38;5;28;43msuper\u001B[39;49m\u001B[43m(\u001B[49m\u001B[43m)\u001B[49m\u001B[38;5;241;43m.\u001B[39;49m\u001B[43mfetch\u001B[49m\u001B[43m(\u001B[49m\n\u001B[0;32m     18\u001B[0m \u001B[43m        \u001B[49m\u001B[43mendpoint\u001B[49m\u001B[38;5;241;43m=\u001B[39;49m\u001B[43mendpoint\u001B[49m\u001B[43m,\u001B[49m\u001B[43m \u001B[49m\u001B[43mpage\u001B[49m\u001B[38;5;241;43m=\u001B[39;49m\u001B[43mpage\u001B[49m\u001B[43m,\u001B[49m\u001B[43m \u001B[49m\u001B[43mkey\u001B[49m\u001B[38;5;241;43m=\u001B[39;49m\u001B[43mkey\u001B[49m\u001B[43m,\u001B[49m\u001B[43m \u001B[49m\u001B[38;5;28;43mfilter\u001B[39;49m\u001B[38;5;241;43m=\u001B[39;49m\u001B[38;5;28;43mfilter\u001B[39;49m\u001B[43m,\u001B[49m\u001B[43m \u001B[49m\u001B[38;5;241;43m*\u001B[39;49m\u001B[38;5;241;43m*\u001B[39;49m\u001B[43mkwargs\u001B[49m\n\u001B[0;32m     19\u001B[0m \u001B[43m    \u001B[49m\u001B[43m)\u001B[49m\n\u001B[0;32m     20\u001B[0m     \u001B[38;5;28mself\u001B[39m\u001B[38;5;241m.\u001B[39m_quota_remaining \u001B[38;5;241m=\u001B[39m response\u001B[38;5;241m.\u001B[39mget(\u001B[38;5;124m\"\u001B[39m\u001B[38;5;124mquota_remaining\u001B[39m\u001B[38;5;124m\"\u001B[39m)\n\u001B[0;32m     21\u001B[0m     \u001B[38;5;28;01mreturn\u001B[39;00m response\n",
      "File \u001B[1;32m~\\Sandbox\\GitHub\\IsQuestion\\env\\Lib\\site-packages\\stackapi\\stackapi.py:212\u001B[0m, in \u001B[0;36mStackAPI.fetch\u001B[1;34m(self, endpoint, page, key, filter, **kwargs)\u001B[0m\n\u001B[0;32m    210\u001B[0m     code \u001B[38;5;241m=\u001B[39m response[\u001B[38;5;124m\"\u001B[39m\u001B[38;5;124merror_name\u001B[39m\u001B[38;5;124m\"\u001B[39m]\n\u001B[0;32m    211\u001B[0m     message \u001B[38;5;241m=\u001B[39m response[\u001B[38;5;124m\"\u001B[39m\u001B[38;5;124merror_message\u001B[39m\u001B[38;5;124m\"\u001B[39m]\n\u001B[1;32m--> 212\u001B[0m     \u001B[38;5;28;01mraise\u001B[39;00m StackAPIError(\u001B[38;5;28mself\u001B[39m\u001B[38;5;241m.\u001B[39m_previous_call, error, code, message)\n\u001B[0;32m    213\u001B[0m \u001B[38;5;28;01mexcept\u001B[39;00m \u001B[38;5;167;01mKeyError\u001B[39;00m:\n\u001B[0;32m    214\u001B[0m     \u001B[38;5;28;01mpass\u001B[39;00m  \u001B[38;5;66;03m# This means there is no error\u001B[39;00m\n",
      "\u001B[1;31mStackAPIError\u001B[0m: ('https://api.stackexchange.com/2.2/questions/?pagesize=100&page=1&filter=default&key=123456&site=stackoverflow', 400, 'bad_parameter', \"`key` doesn't match a known application\")"
     ]
    }
   ],
   "source": [
    "so.fetch(\"questions\")"
   ],
   "metadata": {
    "collapsed": false,
    "ExecuteTime": {
     "end_time": "2023-07-01T20:07:33.408080900Z",
     "start_time": "2023-07-01T20:07:32.892220600Z"
    }
   }
  },
  {
   "cell_type": "markdown",
   "source": [
    "Unfortunately not. However, if we make the `key` private and add a property to make it un-assignable we lose the flexibility of changing to a different `key` without defining a new `StackOverflow` object. With this in mind, it is probably better to _not_ privatize the key."
   ],
   "metadata": {
    "collapsed": false
   }
  }
 ],
 "metadata": {
  "kernelspec": {
   "display_name": "Python 3",
   "language": "python",
   "name": "python3"
  },
  "language_info": {
   "codemirror_mode": {
    "name": "ipython",
    "version": 2
   },
   "file_extension": ".py",
   "mimetype": "text/x-python",
   "name": "python",
   "nbconvert_exporter": "python",
   "pygments_lexer": "ipython2",
   "version": "2.7.6"
  }
 },
 "nbformat": 4,
 "nbformat_minor": 0
}
