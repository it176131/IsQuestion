{
 "cells": [
  {
   "cell_type": "markdown",
   "source": [
    "# Where we left off\n",
    "In Part 01 we registered for an API key and wrote a custom class for fetching questions from the Stack Overflow. Now we're going to pull data and begin processing it."
   ],
   "metadata": {
    "collapsed": false
   }
  },
  {
   "cell_type": "markdown",
   "source": [
    "# Fetching questions\n",
    "We'll start by importing our code and fetching questions."
   ],
   "metadata": {
    "collapsed": false
   }
  },
  {
   "cell_type": "code",
   "execution_count": 6,
   "outputs": [
    {
     "name": "stdout",
     "output_type": "stream",
     "text": [
      "{'tags': ['python', 'makefile', 'visual-studio-2019', 'setuptools', 'nmake'], 'owner': {'reputation': 9718, 'user_id': 1624552, 'user_type': 'registered', 'accept_rate': 60, 'profile_image': 'https://i.stack.imgur.com/FH8SK.jpg?s=256&g=1', 'display_name': 'Willy', 'link': 'https://stackoverflow.com/users/1624552/willy'}, 'is_answered': False, 'view_count': 2, 'answer_count': 0, 'score': 0, 'last_activity_date': 1688391269, 'creation_date': 1688391269, 'question_id': 76605250, 'content_license': 'CC BY-SA 4.0', 'link': 'https://stackoverflow.com/questions/76605250/pass-argument-to-py-setup-py-bdist-wheel-and-then-read-it-from-setup-py', 'title': 'pass argument to py setup.py bdist_wheel and then read it from setup.py'}\n"
     ]
    }
   ],
   "source": [
    "from is_question.api import StackOverflow\n",
    "\n",
    "\n",
    "so = StackOverflow()\n",
    "response = so.fetch_questions()\n",
    "items = response.get(\"items\")\n",
    "zeroth_question = items[0]\n",
    "print(zeroth_question)"
   ],
   "metadata": {
    "collapsed": false,
    "ExecuteTime": {
     "end_time": "2023-07-03T13:34:36.233226300Z",
     "start_time": "2023-07-03T13:34:34.218734900Z"
    }
   }
  },
  {
   "cell_type": "markdown",
   "source": [
    "Let's walk through the keys in our question item:"
   ],
   "metadata": {
    "collapsed": false
   }
  },
  {
   "cell_type": "code",
   "execution_count": 7,
   "outputs": [
    {
     "name": "stdout",
     "output_type": "stream",
     "text": [
      "tags\n",
      "owner\n",
      "is_answered\n",
      "view_count\n",
      "answer_count\n",
      "score\n",
      "last_activity_date\n",
      "creation_date\n",
      "question_id\n",
      "content_license\n",
      "link\n",
      "title\n"
     ]
    }
   ],
   "source": [
    "print(*zeroth_question.keys(), sep=\"\\n\")"
   ],
   "metadata": {
    "collapsed": false,
    "ExecuteTime": {
     "end_time": "2023-07-03T13:35:31.905284600Z",
     "start_time": "2023-07-03T13:35:31.899285800Z"
    }
   }
  },
  {
   "cell_type": "markdown",
   "source": [
    "- `tags` is a list of tags a question is tagged with\n",
    "- `owner` is a dictionary of question-author attributes\n",
    "- `is_answered` is a boolean stating if the question has an accepted answer\n",
    "- `view_count` tells how many views the question has\n",
    "- `answer_count` tells how many answers have been posted to the question\n",
    "- `score` is the net score (upvotes minus downvotes)\n",
    "- `last_activity_date` is the last time the question received any activity\n",
    "- `creation_date` is the original publish date\n",
    "- `question_id` is the unique identifier for the question\n",
    "- `content_license` is the question license type\n",
    "- `link` is a link to the question\n",
    "- `title` is the question title\n",
    "\n",
    "You may have noticed that we're missing the body of the question. We can get this by adjusting `filter` argument in our `fetch_questions` method. As an example I'll limit to our `zeroth_question` and return it's body."
   ],
   "metadata": {
    "collapsed": false
   }
  },
  {
   "cell_type": "code",
   "execution_count": 9,
   "outputs": [
    {
     "name": "stdout",
     "output_type": "stream",
     "text": [
      "tags\n",
      "owner\n",
      "is_answered\n",
      "view_count\n",
      "answer_count\n",
      "score\n",
      "last_activity_date\n",
      "creation_date\n",
      "last_edit_date\n",
      "question_id\n",
      "content_license\n",
      "link\n",
      "title\n",
      "body\n"
     ]
    }
   ],
   "source": [
    "qid = zeroth_question.get(\"question_id\")\n",
    "zeroth_response = so.fetch_questions(question_ids=[qid], filter=\"withbody\")\n",
    "zeroth_items = zeroth_response.get(\"items\")\n",
    "zeroth_question = zeroth_items[0]\n",
    "print(*zeroth_question.keys(), sep=\"\\n\")"
   ],
   "metadata": {
    "collapsed": false,
    "ExecuteTime": {
     "end_time": "2023-07-03T13:57:13.594898500Z",
     "start_time": "2023-07-03T13:57:13.291463100Z"
    }
   }
  },
  {
   "cell_type": "markdown",
   "source": [
    "Now we have a `body`. What does it look like?"
   ],
   "metadata": {
    "collapsed": false
   }
  },
  {
   "cell_type": "code",
   "execution_count": 10,
   "outputs": [
    {
     "name": "stdout",
     "output_type": "stream",
     "text": [
      "<p>In Visual Studio 2019, I have a makefile project in VC++ and using nmake.</p>\n",
      "<p>In the make.mak file I have below (only showing here a piece):</p>\n",
      "<pre><code># release build\n",
      "release: clean\n",
      "    CD..\n",
      "    PY -3.8-32 setup.py build_ext--OutputDirectory=$(OutDirectory)\n",
      "    PY -3.8-32 setup.py bdist_wheel\n",
      "</code></pre>\n",
      "<p>In the project properties, in the build command line, I have the following:</p>\n",
      "<pre><code>nmake /F &quot;$(ProjectDir)..\\make.mak&quot; release OutDirectory=$(OutDir)\n",
      "</code></pre>\n",
      "<p>I am using the visual studio macro $(OutDir)\n",
      "In the make.mak file I have the following setup:</p>\n",
      "<pre><code>setup(\n",
      "    package_dir={'': 'src'},\n",
      "    packages=['mypackage'],\n",
      "    ext_modules=[myextmodule],\n",
      "    cmdclass={\n",
      "        'build_ext': BuildExtCommand,\n",
      "    },\n",
      "    # While not using a pyproject.toml, support setuptools_scm setup.cfg usage,\n",
      "    # see https://github.com/pypa/setuptools_scm/#setupcfg-usage\n",
      "    use_scm_version={\n",
      "        'write_to': 'src/mypackage/__version__.py',\n",
      "        #TODO: fallback_version does not seem to work in case os missing tag\n",
      "        'fallback_version' : '0.0.0-RC0'\n",
      "    }\n",
      ")\n",
      "</code></pre>\n",
      "<p>Then in the setup.py file i have defined the class BuildExtCommand:</p>\n",
      "<pre><code>class BuildExtCommand(build_ext)\n",
      "</code></pre>\n",
      "<p>This class contains the methods initialize_options, finalize_options and the run. The run method looks like below:</p>\n",
      "<pre><code>def run(self):\n",
      "    build_ext.run(self)\n",
      "</code></pre>\n",
      "<p>Finally I initialize the user_options variable:</p>\n",
      "<pre><code>user_options = build_ext.user_options + [\n",
      "    ('prefix=', None, 'my description here'),\n",
      "    ('OutputDirectory=', None, 'my description here'),\n",
      "]\n",
      "</code></pre>\n",
      "<p>Finally with the class I also have a custom method which I get the value from OutputDirectory. This is working for first command in the make.mak file:</p>\n",
      "<pre><code>PY -3.8-32 setup.py build_ext --OutputDirectory=$(OutDirectory)\n",
      "</code></pre>\n",
      "<p>but not working for:</p>\n",
      "<pre><code>PY -3.8-32 setup.py bdist_wheel\n",
      "</code></pre>\n",
      "<p>so how can I pass the argument --OutputDirectory the same I do for setup.py build_ext and then read it from my custom method within the class?</p>\n",
      "\n"
     ]
    }
   ],
   "source": [
    "zeroth_body = zeroth_question.get(\"body\")\n",
    "print(zeroth_body)"
   ],
   "metadata": {
    "collapsed": false,
    "ExecuteTime": {
     "end_time": "2023-07-03T13:57:44.202085800Z",
     "start_time": "2023-07-03T13:57:44.196089200Z"
    }
   }
  },
  {
   "cell_type": "markdown",
   "source": [
    "The body appears to be made up of HTML with some tags relating to `<code>`. We'll probably want to remove the tags. And while the code may be important for *answering* the question, we're not interested in it. So we'll remove the `<code>` tags completely. If you're familiar with `scrapy` then you may have used the `w3lib` package. More specifically the `html` module and its functions `remove_tags` and `remove_tags_with_content`. These will make our job of removing tags a lot easier.\n",
    "\n",
    "> NOTE: if you don't have `w3lib` installed you'll need to do that.\n",
    "    > `pip install w3lib`"
   ],
   "metadata": {
    "collapsed": false
   }
  },
  {
   "cell_type": "markdown",
   "source": [
    "# Removing tags"
   ],
   "metadata": {
    "collapsed": false
   }
  },
  {
   "cell_type": "code",
   "execution_count": 11,
   "outputs": [],
   "source": [
    "from w3lib import html\n",
    "\n",
    "\n",
    "no_code = html.remove_tags_with_content(text=zeroth_body, which_ones=[\"code\"])"
   ],
   "metadata": {
    "collapsed": false,
    "ExecuteTime": {
     "end_time": "2023-07-03T14:05:42.094775200Z",
     "start_time": "2023-07-03T14:05:42.079642200Z"
    }
   }
  },
  {
   "cell_type": "markdown",
   "source": [
    "The above code does exactly what it says -- `remove_tags_with_content`. It takes a body of `text` and removes tags with content in `which_ones`. Here's what it looks like:"
   ],
   "metadata": {
    "collapsed": false
   }
  },
  {
   "cell_type": "code",
   "execution_count": 13,
   "outputs": [
    {
     "name": "stdout",
     "output_type": "stream",
     "text": [
      "<p>In Visual Studio 2019, I have a makefile project in VC++ and using nmake.</p>\n",
      "<p>In the make.mak file I have below (only showing here a piece):</p>\n",
      "<pre><code># release build\n",
      "release: clean\n",
      "    CD..\n",
      "    PY -3.8-32 setup.py build_ext--OutputDirectory=$(OutDirectory)\n",
      "    PY -3.8-32 setup.py bdist_wheel\n",
      "</code></pre>\n",
      "<p>In the project properties, in the build command line, I have the following:</p>\n",
      "<pre><code>nmake /F &quot;$(ProjectDir)..\\make.mak&quot; release OutDirectory=$(OutDir)\n",
      "</code></pre>\n",
      "<p>I am using the visual studio macro $(OutDir)\n",
      "In the make.mak file I have the following setup:</p>\n",
      "<pre><code>setup(\n",
      "    package_dir={'': 'src'},\n",
      "    packages=['mypackage'],\n",
      "    ext_modules=[myextmodule],\n",
      "    cmdclass={\n",
      "        'build_ext': BuildExtCommand,\n",
      "    },\n",
      "    # While not using a pyproject.toml, support setuptools_scm setup.cfg usage,\n",
      "    # see https://github.com/pypa/setuptools_scm/#setupcfg-usage\n",
      "    use_scm_version={\n",
      "        'write_to': 'src/mypackage/__version__.py',\n",
      "        #TODO: fallback_version does not seem to work in case os missing tag\n",
      "        'fallback_version' : '0.0.0-RC0'\n",
      "    }\n",
      ")\n",
      "</code></pre>\n",
      "<p>Then in the setup.py file i have defined the class BuildExtCommand:</p>\n",
      "<pre><code>class BuildExtCommand(build_ext)\n",
      "</code></pre>\n",
      "<p>This class contains the methods initialize_options, finalize_options and the run. The run method looks like below:</p>\n",
      "<pre><code>def run(self):\n",
      "    build_ext.run(self)\n",
      "</code></pre>\n",
      "<p>Finally I initialize the user_options variable:</p>\n",
      "<pre><code>user_options = build_ext.user_options + [\n",
      "    ('prefix=', None, 'my description here'),\n",
      "    ('OutputDirectory=', None, 'my description here'),\n",
      "]\n",
      "</code></pre>\n",
      "<p>Finally with the class I also have a custom method which I get the value from OutputDirectory. This is working for first command in the make.mak file:</p>\n",
      "<pre><code>PY -3.8-32 setup.py build_ext --OutputDirectory=$(OutDirectory)\n",
      "</code></pre>\n",
      "<p>but not working for:</p>\n",
      "<pre><code>PY -3.8-32 setup.py bdist_wheel\n",
      "</code></pre>\n",
      "<p>so how can I pass the argument --OutputDirectory the same I do for setup.py build_ext and then read it from my custom method within the class?</p>\n",
      "\n"
     ]
    }
   ],
   "source": [
    "# before removal of code\n",
    "print(zeroth_body)"
   ],
   "metadata": {
    "collapsed": false,
    "ExecuteTime": {
     "end_time": "2023-07-03T14:05:58.576367600Z",
     "start_time": "2023-07-03T14:05:58.568669500Z"
    }
   }
  },
  {
   "cell_type": "code",
   "execution_count": 14,
   "outputs": [
    {
     "name": "stdout",
     "output_type": "stream",
     "text": [
      "<p>In Visual Studio 2019, I have a makefile project in VC++ and using nmake.</p>\n",
      "<p>In the make.mak file I have below (only showing here a piece):</p>\n",
      "<pre></pre>\n",
      "<p>In the project properties, in the build command line, I have the following:</p>\n",
      "<pre></pre>\n",
      "<p>I am using the visual studio macro $(OutDir)\n",
      "In the make.mak file I have the following setup:</p>\n",
      "<pre></pre>\n",
      "<p>Then in the setup.py file i have defined the class BuildExtCommand:</p>\n",
      "<pre></pre>\n",
      "<p>This class contains the methods initialize_options, finalize_options and the run. The run method looks like below:</p>\n",
      "<pre></pre>\n",
      "<p>Finally I initialize the user_options variable:</p>\n",
      "<pre></pre>\n",
      "<p>Finally with the class I also have a custom method which I get the value from OutputDirectory. This is working for first command in the make.mak file:</p>\n",
      "<pre></pre>\n",
      "<p>but not working for:</p>\n",
      "<pre></pre>\n",
      "<p>so how can I pass the argument --OutputDirectory the same I do for setup.py build_ext and then read it from my custom method within the class?</p>\n",
      "\n"
     ]
    }
   ],
   "source": [
    "# after removal of code\n",
    "print(no_code)"
   ],
   "metadata": {
    "collapsed": false,
    "ExecuteTime": {
     "end_time": "2023-07-03T14:22:07.420780800Z",
     "start_time": "2023-07-03T14:22:07.403616600Z"
    }
   }
  },
  {
   "cell_type": "markdown",
   "source": [
    "All the code tags and their content have successfully been removed. Now let's remove all the other tags, but keep the content."
   ],
   "metadata": {
    "collapsed": false
   }
  },
  {
   "cell_type": "code",
   "execution_count": 15,
   "outputs": [
    {
     "name": "stdout",
     "output_type": "stream",
     "text": [
      "In Visual Studio 2019, I have a makefile project in VC++ and using nmake.\n",
      "In the make.mak file I have below (only showing here a piece):\n",
      "\n",
      "In the project properties, in the build command line, I have the following:\n",
      "\n",
      "I am using the visual studio macro $(OutDir)\n",
      "In the make.mak file I have the following setup:\n",
      "\n",
      "Then in the setup.py file i have defined the class BuildExtCommand:\n",
      "\n",
      "This class contains the methods initialize_options, finalize_options and the run. The run method looks like below:\n",
      "\n",
      "Finally I initialize the user_options variable:\n",
      "\n",
      "Finally with the class I also have a custom method which I get the value from OutputDirectory. This is working for first command in the make.mak file:\n",
      "\n",
      "but not working for:\n",
      "\n",
      "so how can I pass the argument --OutputDirectory the same I do for setup.py build_ext and then read it from my custom method within the class?\n",
      "\n"
     ]
    }
   ],
   "source": [
    "no_tags = html.remove_tags(text=no_code)\n",
    "print(no_tags)"
   ],
   "metadata": {
    "collapsed": false,
    "ExecuteTime": {
     "end_time": "2023-07-03T14:23:31.137641600Z",
     "start_time": "2023-07-03T14:23:31.130596500Z"
    }
   }
  },
  {
   "cell_type": "markdown",
   "source": [
    "Let's write a function that does both of these steps and apply it over all of our question bodies."
   ],
   "metadata": {
    "collapsed": false
   }
  },
  {
   "cell_type": "code",
   "execution_count": 16,
   "outputs": [],
   "source": [
    "def clean_text(text: str) -> str:\n",
    "    \"\"\"Remove code and HTML tags.\"\"\"\n",
    "    no_code = html.remove_tags_with_content(text=text, which_ones=[\"code\"])\n",
    "    no_tags = html.remove_tags(text=no_code)\n",
    "    return no_tags"
   ],
   "metadata": {
    "collapsed": false,
    "ExecuteTime": {
     "end_time": "2023-07-03T14:25:57.831588300Z",
     "start_time": "2023-07-03T14:25:57.816557800Z"
    }
   }
  },
  {
   "cell_type": "code",
   "execution_count": 17,
   "outputs": [
    {
     "name": "stdout",
     "output_type": "stream",
     "text": [
      "In Visual Studio 2019, I have a makefile project in VC++ and using nmake.\n",
      "In the make.mak file I have below (only showing here a piece):\n",
      "\n",
      "In the project properties, in the build command line, I have the following:\n",
      "\n",
      "I am using the visual studio macro $(OutDir)\n",
      "In the make.mak file I have the following setup:\n",
      "\n",
      "Then in the setup.py file i have defined the class BuildExtCommand:\n",
      "\n",
      "This class contains the methods initialize_options, finalize_options and the run. The run method looks like below:\n",
      "\n",
      "Finally I initialize the user_options variable:\n",
      "\n",
      "Finally with the class I also have a custom method which I get the value from OutputDirectory. This is working for first command in the make.mak file:\n",
      "\n",
      "but not working for:\n",
      "\n",
      "so how can I pass the argument --OutputDirectory the same I do for setup.py build_ext and then read it from my custom method within the class?\n",
      "\n"
     ]
    }
   ],
   "source": [
    "zeroth_clean = clean_text(text=zeroth_body)\n",
    "print(zeroth_clean)"
   ],
   "metadata": {
    "collapsed": false,
    "ExecuteTime": {
     "end_time": "2023-07-03T14:26:26.924038Z",
     "start_time": "2023-07-03T14:26:26.908395600Z"
    }
   }
  },
  {
   "cell_type": "markdown",
   "source": [
    "To keep our working space clean let's create a new module called \"utils.py\" in our `is_question` package and store our function in there."
   ],
   "metadata": {
    "collapsed": false
   }
  },
  {
   "cell_type": "code",
   "execution_count": 18,
   "outputs": [],
   "source": [
    "\"\"\"Contents of utils.py\"\"\"\n",
    "from w3lib import html\n",
    "\n",
    "\n",
    "def clean_text(text: str) -> str:\n",
    "    \"\"\"Remove code and HTML tags.\"\"\"\n",
    "    no_code = html.remove_tags_with_content(text=text, which_ones=[\"code\"])\n",
    "    no_tags = html.remove_tags(text=no_code)\n",
    "    return no_tags"
   ],
   "metadata": {
    "collapsed": false,
    "ExecuteTime": {
     "end_time": "2023-07-03T14:28:54.415793Z",
     "start_time": "2023-07-03T14:28:54.399741100Z"
    }
   }
  },
  {
   "cell_type": "markdown",
   "source": [
    "# Storing data\n",
    "We have a way to fetch data and a way to do some minor preprocessing. Now we should probably save it somewhere. I suggest saving both the *raw* data (what came from the API) and the clean data. Because the data came to us as JSON but the `items` are list-like we'll use JSONL format. I'll make a new directory called \"data\" and store the \"raw.jsonl\" and \"clean.jsonl\" files in there.\n",
    "> NOTE: the data folder is at the same level as the `is_question` package."
   ],
   "metadata": {
    "collapsed": false
   }
  },
  {
   "cell_type": "code",
   "execution_count": 62,
   "outputs": [],
   "source": [
    "import json\n",
    "\n",
    "\n",
    "response = so.fetch_questions(filter=\"withbody\")\n",
    "items = response.get(\"items\")"
   ],
   "metadata": {
    "collapsed": false,
    "ExecuteTime": {
     "end_time": "2023-07-03T14:57:27.470116200Z",
     "start_time": "2023-07-03T14:57:25.326331500Z"
    }
   }
  },
  {
   "cell_type": "code",
   "execution_count": 63,
   "outputs": [],
   "source": [
    "with open(\"../data/raw.jsonl\", mode=\"w\") as f:\n",
    "    for item in items:\n",
    "        json_ = json.dumps(item)\n",
    "        f.write(f\"{json_}\\n\")"
   ],
   "metadata": {
    "collapsed": false,
    "ExecuteTime": {
     "end_time": "2023-07-03T14:57:27.549386800Z",
     "start_time": "2023-07-03T14:57:27.474121Z"
    }
   }
  },
  {
   "cell_type": "markdown",
   "source": [
    "Before we clean up the bodies and save them, we need to take a `deepcopy` of the `items` variable. Why? If we don't we'll end up overwriting the values in our preexisting `items`. While we aren't going to use them after this, it's good practice to explicitly make copies of objects to not accidentally modify them."
   ],
   "metadata": {
    "collapsed": false
   }
  },
  {
   "cell_type": "code",
   "execution_count": 73,
   "outputs": [
    {
     "ename": "TypeError",
     "evalue": "to_unicode must receive bytes or str, got NoneType",
     "output_type": "error",
     "traceback": [
      "\u001B[1;31m---------------------------------------------------------------------------\u001B[0m",
      "\u001B[1;31mTypeError\u001B[0m                                 Traceback (most recent call last)",
      "Cell \u001B[1;32mIn[73], line 9\u001B[0m\n\u001B[0;32m      7\u001B[0m \u001B[38;5;28;01mfor\u001B[39;00m idx, item \u001B[38;5;129;01min\u001B[39;00m \u001B[38;5;28menumerate\u001B[39m(clean_items):\n\u001B[0;32m      8\u001B[0m     raw_body \u001B[38;5;241m=\u001B[39m item\u001B[38;5;241m.\u001B[39mget(\u001B[38;5;124m\"\u001B[39m\u001B[38;5;124mbody\u001B[39m\u001B[38;5;124m\"\u001B[39m)\n\u001B[1;32m----> 9\u001B[0m     clean_body \u001B[38;5;241m=\u001B[39m \u001B[43mclean_text\u001B[49m\u001B[43m(\u001B[49m\u001B[43mtext\u001B[49m\u001B[38;5;241;43m=\u001B[39;49m\u001B[43mraw_body\u001B[49m\u001B[43m)\u001B[49m\n\u001B[0;32m     10\u001B[0m     clean_items[idx][\u001B[38;5;124m\"\u001B[39m\u001B[38;5;124mbody\u001B[39m\u001B[38;5;124m\"\u001B[39m] \u001B[38;5;241m=\u001B[39m clean_body\n",
      "Cell \u001B[1;32mIn[18], line 7\u001B[0m, in \u001B[0;36mclean_text\u001B[1;34m(text)\u001B[0m\n\u001B[0;32m      5\u001B[0m \u001B[38;5;28;01mdef\u001B[39;00m \u001B[38;5;21mclean_text\u001B[39m(text: \u001B[38;5;28mstr\u001B[39m) \u001B[38;5;241m-\u001B[39m\u001B[38;5;241m>\u001B[39m \u001B[38;5;28mstr\u001B[39m:\n\u001B[0;32m      6\u001B[0m \u001B[38;5;250m    \u001B[39m\u001B[38;5;124;03m\"\"\"Remove code and HTML tags.\"\"\"\u001B[39;00m\n\u001B[1;32m----> 7\u001B[0m     no_code \u001B[38;5;241m=\u001B[39m \u001B[43mhtml\u001B[49m\u001B[38;5;241;43m.\u001B[39;49m\u001B[43mremove_tags_with_content\u001B[49m\u001B[43m(\u001B[49m\u001B[43mtext\u001B[49m\u001B[38;5;241;43m=\u001B[39;49m\u001B[43mtext\u001B[49m\u001B[43m,\u001B[49m\u001B[43m \u001B[49m\u001B[43mwhich_ones\u001B[49m\u001B[38;5;241;43m=\u001B[39;49m\u001B[43m[\u001B[49m\u001B[38;5;124;43m\"\u001B[39;49m\u001B[38;5;124;43mcode\u001B[39;49m\u001B[38;5;124;43m\"\u001B[39;49m\u001B[43m]\u001B[49m\u001B[43m)\u001B[49m\n\u001B[0;32m      8\u001B[0m     no_tags \u001B[38;5;241m=\u001B[39m html\u001B[38;5;241m.\u001B[39mremove_tags(text\u001B[38;5;241m=\u001B[39mno_code)\n\u001B[0;32m      9\u001B[0m     \u001B[38;5;28;01mreturn\u001B[39;00m no_tags\n",
      "File \u001B[1;32m~\\Sandbox\\GitHub\\IsQuestion\\env\\Lib\\site-packages\\w3lib\\html.py:234\u001B[0m, in \u001B[0;36mremove_tags_with_content\u001B[1;34m(text, which_ones, encoding)\u001B[0m\n\u001B[0;32m    218\u001B[0m \u001B[38;5;28;01mdef\u001B[39;00m \u001B[38;5;21mremove_tags_with_content\u001B[39m(\n\u001B[0;32m    219\u001B[0m     text: AnyStr, which_ones: Iterable[\u001B[38;5;28mstr\u001B[39m] \u001B[38;5;241m=\u001B[39m (), encoding: Optional[\u001B[38;5;28mstr\u001B[39m] \u001B[38;5;241m=\u001B[39m \u001B[38;5;28;01mNone\u001B[39;00m\n\u001B[0;32m    220\u001B[0m ) \u001B[38;5;241m-\u001B[39m\u001B[38;5;241m>\u001B[39m \u001B[38;5;28mstr\u001B[39m:\n\u001B[0;32m    221\u001B[0m \u001B[38;5;250m    \u001B[39m\u001B[38;5;124;03m\"\"\"Remove tags and their content.\u001B[39;00m\n\u001B[0;32m    222\u001B[0m \n\u001B[0;32m    223\u001B[0m \u001B[38;5;124;03m    `which_ones` is a tuple of which tags to remove including their content.\u001B[39;00m\n\u001B[1;32m   (...)\u001B[0m\n\u001B[0;32m    231\u001B[0m \n\u001B[0;32m    232\u001B[0m \u001B[38;5;124;03m    \"\"\"\u001B[39;00m\n\u001B[1;32m--> 234\u001B[0m     utext \u001B[38;5;241m=\u001B[39m \u001B[43mto_unicode\u001B[49m\u001B[43m(\u001B[49m\u001B[43mtext\u001B[49m\u001B[43m,\u001B[49m\u001B[43m \u001B[49m\u001B[43mencoding\u001B[49m\u001B[43m)\u001B[49m\n\u001B[0;32m    235\u001B[0m     \u001B[38;5;28;01mif\u001B[39;00m which_ones:\n\u001B[0;32m    236\u001B[0m         tags \u001B[38;5;241m=\u001B[39m \u001B[38;5;124m\"\u001B[39m\u001B[38;5;124m|\u001B[39m\u001B[38;5;124m\"\u001B[39m\u001B[38;5;241m.\u001B[39mjoin([\u001B[38;5;124mrf\u001B[39m\u001B[38;5;124m\"\u001B[39m\u001B[38;5;124m<\u001B[39m\u001B[38;5;132;01m{\u001B[39;00mtag\u001B[38;5;132;01m}\u001B[39;00m\u001B[38;5;124m\\\u001B[39m\u001B[38;5;124mb.*?</\u001B[39m\u001B[38;5;132;01m{\u001B[39;00mtag\u001B[38;5;132;01m}\u001B[39;00m\u001B[38;5;124m>|<\u001B[39m\u001B[38;5;132;01m{\u001B[39;00mtag\u001B[38;5;132;01m}\u001B[39;00m\u001B[38;5;124m\\\u001B[39m\u001B[38;5;124ms*/>\u001B[39m\u001B[38;5;124m\"\u001B[39m \u001B[38;5;28;01mfor\u001B[39;00m tag \u001B[38;5;129;01min\u001B[39;00m which_ones])\n",
      "File \u001B[1;32m~\\Sandbox\\GitHub\\IsQuestion\\env\\Lib\\site-packages\\w3lib\\util.py:47\u001B[0m, in \u001B[0;36mto_unicode\u001B[1;34m(text, encoding, errors)\u001B[0m\n\u001B[0;32m     45\u001B[0m     \u001B[38;5;28;01mreturn\u001B[39;00m text\n\u001B[0;32m     46\u001B[0m \u001B[38;5;28;01mif\u001B[39;00m \u001B[38;5;129;01mnot\u001B[39;00m \u001B[38;5;28misinstance\u001B[39m(text, (\u001B[38;5;28mbytes\u001B[39m, \u001B[38;5;28mstr\u001B[39m)):\n\u001B[1;32m---> 47\u001B[0m     \u001B[38;5;28;01mraise\u001B[39;00m \u001B[38;5;167;01mTypeError\u001B[39;00m(\n\u001B[0;32m     48\u001B[0m         \u001B[38;5;124mf\u001B[39m\u001B[38;5;124m\"\u001B[39m\u001B[38;5;124mto_unicode must receive bytes or str, got \u001B[39m\u001B[38;5;132;01m{\u001B[39;00m\u001B[38;5;28mtype\u001B[39m(text)\u001B[38;5;241m.\u001B[39m\u001B[38;5;18m__name__\u001B[39m\u001B[38;5;132;01m}\u001B[39;00m\u001B[38;5;124m\"\u001B[39m\n\u001B[0;32m     49\u001B[0m     )\n\u001B[0;32m     50\u001B[0m \u001B[38;5;28;01mif\u001B[39;00m encoding \u001B[38;5;129;01mis\u001B[39;00m \u001B[38;5;28;01mNone\u001B[39;00m:\n\u001B[0;32m     51\u001B[0m     encoding \u001B[38;5;241m=\u001B[39m \u001B[38;5;124m\"\u001B[39m\u001B[38;5;124mutf-8\u001B[39m\u001B[38;5;124m\"\u001B[39m\n",
      "\u001B[1;31mTypeError\u001B[0m: to_unicode must receive bytes or str, got NoneType"
     ]
    }
   ],
   "source": [
    "from copy import deepcopy\n",
    "\n",
    "\n",
    "clean_items = deepcopy(items)\n",
    "# we enumerate to replace the body of\n",
    "# a specific item in clean_items\n",
    "for idx, item in enumerate(clean_items):\n",
    "    raw_body = item.get(\"body\")\n",
    "    clean_body = clean_text(text=raw_body)\n",
    "    clean_items[idx][\"body\"] = clean_body"
   ],
   "metadata": {
    "collapsed": false,
    "ExecuteTime": {
     "end_time": "2023-07-03T15:02:52.179501200Z",
     "start_time": "2023-07-03T15:02:52.106338500Z"
    }
   }
  },
  {
   "cell_type": "markdown",
   "source": [
    "Uh oh! We got a `TypeError`. What caused this?"
   ],
   "metadata": {
    "collapsed": false
   }
  },
  {
   "cell_type": "code",
   "execution_count": 74,
   "outputs": [
    {
     "data": {
      "text/plain": "{'tags': ['c#', 'kubernetes', 'exec', 'kubectl'],\n 'owner': {'reputation': 1163,\n  'user_id': 19544859,\n  'user_type': 'registered',\n  'profile_image': 'https://i.stack.imgur.com/cjZT6.jpg?s=256&g=1',\n  'display_name': 'mikyll98',\n  'link': 'https://stackoverflow.com/users/19544859/mikyll98'},\n 'is_answered': False,\n 'view_count': 26,\n 'answer_count': 1,\n 'score': 0,\n 'last_activity_date': 1688393579,\n 'creation_date': 1688383889,\n 'last_edit_date': 1688393579,\n 'question_id': 76604324,\n 'content_license': 'CC BY-SA 4.0',\n 'link': 'https://stackoverflow.com/questions/76604324/kubernetes-kubectl-exec-command-different-behaviour-from-c-program',\n 'title': 'Kubernetes: kubectl exec command different behaviour from C# program'}"
     },
     "execution_count": 74,
     "metadata": {},
     "output_type": "execute_result"
    }
   ],
   "source": [
    "item"
   ],
   "metadata": {
    "collapsed": false,
    "ExecuteTime": {
     "end_time": "2023-07-03T15:03:29.432781600Z",
     "start_time": "2023-07-03T15:03:29.421278700Z"
    }
   }
  },
  {
   "cell_type": "markdown",
   "source": [
    "It looks like we have an `item` without a `body`? Not sure how that happened. Let's see how many `items` don't have bodies."
   ],
   "metadata": {
    "collapsed": false
   }
  },
  {
   "cell_type": "code",
   "execution_count": 79,
   "outputs": [
    {
     "name": "stdout",
     "output_type": "stream",
     "text": [
      "items with body: 498\n",
      "total number of items: 500\n",
      "proportion with body vs not: 0.996, 0.0040000000000000036\n"
     ]
    }
   ],
   "source": [
    "with_body = sum(\"body\" in item for item in items)\n",
    "total = len(items)\n",
    "print(f\"items with body: {with_body}\")\n",
    "print(f\"total number of items: {total}\")\n",
    "print(f\"proportion with body vs not: {with_body / total}, {1 - with_body / total}\")"
   ],
   "metadata": {
    "collapsed": false,
    "ExecuteTime": {
     "end_time": "2023-07-03T15:07:06.780388500Z",
     "start_time": "2023-07-03T15:07:06.704409900Z"
    }
   }
  },
  {
   "cell_type": "markdown",
   "source": [
    "Two items are missing bodies. We can do a couple of things here:\n",
    "1. Remove the items without a body (and possibly replace them with different questions).\n",
    "2. Keep the items and write a `try/except` in our for-loop that handles the `TypeError`.\n",
    "3. Check if `body` exists and clean it if it does, otherwise continue with the loop.\n",
    "\n",
    "Let's go with option 3."
   ],
   "metadata": {
    "collapsed": false
   }
  },
  {
   "cell_type": "code",
   "execution_count": 80,
   "outputs": [],
   "source": [
    "clean_items = deepcopy(items)\n",
    "# we enumerate to replace the body of\n",
    "# a specific item in clean_items\n",
    "for idx, item in enumerate(clean_items):\n",
    "    raw_body = item.get(\"body\")\n",
    "    if raw_body is None:\n",
    "        # this will continue to the next item in the loop\n",
    "        # skipping all code after the conditional\n",
    "        continue\n",
    "    clean_body = clean_text(text=raw_body)\n",
    "    clean_items[idx][\"body\"] = clean_body"
   ],
   "metadata": {
    "collapsed": false,
    "ExecuteTime": {
     "end_time": "2023-07-03T15:11:11.269262900Z",
     "start_time": "2023-07-03T15:11:11.230577100Z"
    }
   }
  },
  {
   "cell_type": "markdown",
   "source": [
    "Much better. Now we can write the JSONL file."
   ],
   "metadata": {
    "collapsed": false
   }
  },
  {
   "cell_type": "code",
   "execution_count": 84,
   "outputs": [],
   "source": [
    "with open(\"../data/clean.jsonl\", mode=\"w\") as f:\n",
    "    for item in clean_items:\n",
    "        json_ = json.dumps(item)\n",
    "        f.write(f\"{json_}\\n\")"
   ],
   "metadata": {
    "collapsed": false,
    "ExecuteTime": {
     "end_time": "2023-07-03T15:12:08.184175Z",
     "start_time": "2023-07-03T15:12:08.155225900Z"
    }
   }
  }
 ],
 "metadata": {
  "kernelspec": {
   "display_name": "Python 3",
   "language": "python",
   "name": "python3"
  },
  "language_info": {
   "codemirror_mode": {
    "name": "ipython",
    "version": 2
   },
   "file_extension": ".py",
   "mimetype": "text/x-python",
   "name": "python",
   "nbconvert_exporter": "python",
   "pygments_lexer": "ipython2",
   "version": "2.7.6"
  }
 },
 "nbformat": 4,
 "nbformat_minor": 0
}
